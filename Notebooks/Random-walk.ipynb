{
 "cells": [
  {
   "cell_type": "markdown",
   "id": "701049f6",
   "metadata": {},
   "source": [
    "# Random Walk\n",
    "A random walk, known as a stochastic or random process, is a mathematical tool that describes a path consisting of a succession of random steps in some mathematical space, such as the integers.\n",
    "\n",
    "Random walks have applications to engineering and many scientific fields, including ecology, psychology, computer science, physics, chemistry, biology, economics, and sociology. It explains the observed behaviors of many processes in the fields mentioned above and thus serves as a fundamental model for the recorded stochastic activity.\n",
    "For example, the path taken by a molecule when moving in gas or liquid, the path taken by a herbivore, stock price fluctuations, and the financial condition of a gambler; These are items that can be modeled by lagging.\n",
    "\n",
    "Karl Pearson first introduced the term random walk in 1905."
   ]
  },
  {
   "cell_type": "code",
   "execution_count": null,
   "id": "ff643707",
   "metadata": {},
   "outputs": [],
   "source": []
  }
 ],
 "metadata": {
  "kernelspec": {
   "display_name": "Python 3",
   "language": "python",
   "name": "python3"
  },
  "language_info": {
   "codemirror_mode": {
    "name": "ipython",
    "version": 3
   },
   "file_extension": ".py",
   "mimetype": "text/x-python",
   "name": "python",
   "nbconvert_exporter": "python",
   "pygments_lexer": "ipython3",
   "version": "3.8.8"
  }
 },
 "nbformat": 4,
 "nbformat_minor": 5
}
