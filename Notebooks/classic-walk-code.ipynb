{
 "cells": [
  {
   "cell_type": "markdown",
   "id": "af000523",
   "metadata": {},
   "source": [
    "## Classic walk code"
   ]
  },
  {
   "cell_type": "code",
   "execution_count": 1,
   "id": "4738e6f6",
   "metadata": {},
   "outputs": [],
   "source": [
    "%matplotlib inline\n",
    "import matplotlib as mpl\n",
    "from random import randrange\n",
    "import numpy as np\n",
    "import matplotlib.pyplot as plt"
   ]
  },
  {
   "cell_type": "code",
   "execution_count": 2,
   "id": "e9bc265b",
   "metadata": {
    "scrolled": true
   },
   "outputs": [
    {
     "data": {
      "text/plain": [
       "(150.0, 250.0)"
      ]
     },
     "execution_count": 2,
     "metadata": {},
     "output_type": "execute_result"
    },
    {
     "data": {
      "image/png": "[encoded data removed]",
      "text/plain": [
       "<Figure size 432x288 with 1 Axes>"
      ]
     },
     "metadata": {
      "needs_background": "light"
     },
     "output_type": "display_data"
    }
   ],
   "source": [
    "from random import randrange\n",
    "pose=[]\n",
    "for i in range(400): \n",
    "     pose.append([])\n",
    "#print(pose)\n",
    "#pose[-1]=1\n",
    "#print(pose[-1])\n",
    "pose[0]=200\n",
    "for k in range(200):\n",
    "    rand = randrange(0,2)\n",
    "    if rand==0:\n",
    "        #print(rand)\n",
    "        pose[k+1]=pose[k]+1\n",
    "    if rand==1:\n",
    "        pose[k+1]=pose[k]-1\n",
    "#print(pose)\n",
    "yc=[]\n",
    "for e in range(400): \n",
    "     yc.append([])\n",
    "for q in range(400):\n",
    "    yc[q]=0\n",
    "    for h in range(400):\n",
    "        if pose[h]==q:\n",
    "            yc[q]=yc[q]+1\n",
    "#print((yc))\n",
    "#print(len(yc))\n",
    "xc = np.arange(0, 400, 1)\n",
    "plt.plot(yc)\n",
    "plt.xlim(150, 250)"
   ]
  }
 ],
 "metadata": {
  "kernelspec": {
   "display_name": "Python 3",
   "language": "python",
   "name": "python3"
  },
  "language_info": {
   "codemirror_mode": {
    "name": "ipython",
    "version": 3
   },
   "file_extension": ".py",
   "mimetype": "text/x-python",
   "name": "python",
   "nbconvert_exporter": "python",
   "pygments_lexer": "ipython3",
   "version": "3.8.8"
  }
 },
 "nbformat": 4,
 "nbformat_minor": 5
}
