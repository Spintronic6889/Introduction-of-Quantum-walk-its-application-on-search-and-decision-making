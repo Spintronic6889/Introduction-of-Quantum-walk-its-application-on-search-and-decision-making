{
 "cells": [
  {
   "cell_type": "markdown",
   "id": "6a1071c7",
   "metadata": {},
   "source": [
    "in this project, we addressed the Quantum Walk problem as one of the most widely used and essential quantum algorithms in the field of quantum computing.\n",
    "This project forms two significant sections:\n",
    "1- Content production  \n",
    "2- Implementation in the form of Qiskit simulation and also optimizing ugate operates on the coin qubit to minimize the standard deviation (done for the first time in this project)\n",
    "\n",
    "First, we studied analytical and theoretical classical walk and quantum walk, introducing various continuous-time and discrete-time quantum models. Then, considering the importance of the discrete-time coin model, we studied the mathematical relations of this model based on the Hadamard coin as the standard coin in this model. \n",
    "Finally, we apply the quantum walk algorithm in search and decision-making fields as two essential applications of the quantum walk algorithm.\n",
    "Second phase: successfully implemented and simulated the classical random walk and obtained its normal probability distribution. \n",
    "Next, we simulated the quantum discrete-time walk using a single coin on  Qiskit platform based on analytical relations in the literature.\n",
    "\n",
    "We considered the implemented model in the most general case (desired number of positions and steps) with different initializing coin qubit on a circular path and figured out the results of our probability distribution diagrams are entirely consistent with the cases reported in paper.\n",
    "\n",
    "Our goal was to minimize standard deviation to get uniform distribution over positions. We calculated the coin's best initial state by obtain U-gate to operate on coin qubit by optimizing angles of ugate  in MATLAB softwer. The implementation of this idea has been presented for the first time during this project.\n",
    "\n",
    "Finally, we introduced the quantum walk search algorithm and described the theory of the model. Moreover, we modeled one of the primary examples of decision-making theory and game theory, the prisoner's dilemma, with the two-coin quantum walk algorithm.\n",
    "In the following, the project sections are presented as follows.\n",
    "# Midterm Deliverables: \n",
    "\n",
    "We had aimed to complete most of the explanation part of each notebook in our project. The same has been achieved and can be verified at [GitHub repo](https://github.com/asif-saad/Introduction-to-Quantum-Chemistry). Navigate to the  [Contents file](https://github.com/asif-saad/Introduction-to-Quantum-Chemistry/blob/master/Content.ipynb) to view all the notebooks.\n",
    "\n",
    "#### Work done in each notebook till Midterm is as follows:\n",
    "1. [Qiskit Installation](https://github.com/asif-saad/Introduction-to-Quantum-Chemistry/blob/master/Notebooks/QC_2_Qiskit_Installation.ipynb): This notebook includes instructions to install Qiskit and check the installation. \n",
    "2. [Python Review](https://github.com/asif-saad/Introduction-to-Quantum-Chemistry/blob/master/Notebooks/QC_3_Python_Review.ipynb): This notebook includes the basics of Python i.e. variables, data structures (tuple, lists and dictionaries), conditions, loop (for, while and do/while).\n",
    "3. [Qiskit Review](https://github.com/asif-saad/Introduction-to-Quantum-Chemistry/blob/master/Notebooks/QC_4_Qiskit_Review.ipynb): This notebook includes the basics of Qiskit i.e. quantum and classical registers, creating circuits, gates (operators), simulators (qasm simulator, statevector, unitary simulator). \n",
    "4. [Introduction to Chemistry](https://github.com/asif-saad/Introduction-to-Quantum-Chemistry/blob/master/Notebooks/QC_1_Introduction_to_Chemistry.ipynb): This notebook includes the theoretical explanation of atoms, molecules, and orbitals (s,p,d,f).  \n",
    "5. [Quantum Chemistry](https://github.com/asif-saad/Introduction-to-Quantum-Chemistry/blob/master/Notebooks/QC_6_Quantum_Chemistry.ipynb): This notebook includes the fundamentals of Quantum chemistry i.e. electronic structure, Schrodinger equation, molecular (Coulomb) Hamiltonian, electronic Hamiltonian (Born-Oppenheimer approximation), limitations. \n",
    "6. [Mapping Methods](https://github.com/asif-saad/Introduction-to-Quantum-Chemistry/blob/master/Notebooks/QC_5_Mapping_Methods.ipynb): This notebook includes the explanation of Mapping, and discussion of some mapping methods like Jordan-Wigner, Bravyi-Kitaev.  \n",
    "7. [Quantum Phase Estimation (QPE)](https://github.com/asif-saad/Introduction-to-Quantum-Chemistry/blob/master/Notebooks/QC_7_Quantum_Phase_Estimation(QPE).ipynb) :  \n",
    "8. [Variational Quantum Eigensolver (VQE)](https://github.com/asif-saad/Introduction-to-Quantum-Chemistry/blob/master/Notebooks/QC_8_Variational_Quantum_Eigensolver(VQE).ipynb) : "
   ]
  },
  {
   "cell_type": "markdown",
   "id": "06133141",
   "metadata": {},
   "source": []
  }
 ],
 "metadata": {
  "kernelspec": {
   "display_name": "Python 3",
   "language": "python",
   "name": "python3"
  },
  "language_info": {
   "codemirror_mode": {
    "name": "ipython",
    "version": 3
   },
   "file_extension": ".py",
   "mimetype": "text/x-python",
   "name": "python",
   "nbconvert_exporter": "python",
   "pygments_lexer": "ipython3",
   "version": "3.8.8"
  }
 },
 "nbformat": 4,
 "nbformat_minor": 5
}
